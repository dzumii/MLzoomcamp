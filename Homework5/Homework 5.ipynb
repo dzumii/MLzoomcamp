{
 "cells": [
  {
   "cell_type": "markdown",
   "id": "861eee8b",
   "metadata": {},
   "source": [
    "## Question 1\n",
    "Install Pipenv\n",
    "What's the version of pipenv you installed?\n",
    "Use --version to find out"
   ]
  },
  {
   "cell_type": "code",
   "execution_count": null,
   "id": "3deee567",
   "metadata": {},
   "outputs": [],
   "source": [
    "pipenv --version"
   ]
  },
  {
   "cell_type": "markdown",
   "id": "5430df7e",
   "metadata": {},
   "source": [
    "## Question 2\n",
    "Use Pipenv to install Scikit-Learn version 1.3.1\n",
    "What's the first hash for scikit-learn you get in Pipfile.lock?\n",
    "Note: you should create an empty folder for homework and do it there."
   ]
  },
  {
   "cell_type": "code",
   "execution_count": null,
   "id": "6b8cbbcd",
   "metadata": {},
   "outputs": [],
   "source": [
    "pipenv install scikit-learn=1.3.1"
   ]
  },
  {
   "cell_type": "code",
   "execution_count": null,
   "id": "7df2a189",
   "metadata": {},
   "outputs": [],
   "source": [
    "\"sha256:0c275a06c5190c5ce00af0acbb61c06374087949f643ef32d355ece12c4db043\""
   ]
  },
  {
   "cell_type": "markdown",
   "id": "19f3ef08",
   "metadata": {},
   "source": [
    "## Let's use these models!\n",
    "\n",
    "Write a script for loading these models with pickle\n",
    "Score this client:\n",
    "{\"job\": \"retired\", \"duration\": 445, \"poutcome\": \"success\"}\n",
    "What's the probability that this client will get a credit?"
   ]
  },
  {
   "cell_type": "code",
   "execution_count": 5,
   "id": "3c6b6ab2",
   "metadata": {},
   "outputs": [],
   "source": [
    "import pickle"
   ]
  },
  {
   "cell_type": "code",
   "execution_count": 6,
   "id": "2a73a4d7",
   "metadata": {},
   "outputs": [],
   "source": [
    "model_file = 'model1.bin'\n",
    "dictVectorizer= 'dv.bin'"
   ]
  },
  {
   "cell_type": "code",
   "execution_count": 7,
   "id": "fe7104e2",
   "metadata": {},
   "outputs": [
    {
     "name": "stderr",
     "output_type": "stream",
     "text": [
      "C:\\Users\\DELL\\anaconda3\\lib\\site-packages\\sklearn\\base.py:347: InconsistentVersionWarning: Trying to unpickle estimator LogisticRegression from version 1.3.1 when using version 1.3.0. This might lead to breaking code or invalid results. Use at your own risk. For more info please refer to:\n",
      "https://scikit-learn.org/stable/model_persistence.html#security-maintainability-limitations\n",
      "  warnings.warn(\n",
      "C:\\Users\\DELL\\anaconda3\\lib\\site-packages\\sklearn\\base.py:347: InconsistentVersionWarning: Trying to unpickle estimator DictVectorizer from version 1.3.1 when using version 1.3.0. This might lead to breaking code or invalid results. Use at your own risk. For more info please refer to:\n",
      "https://scikit-learn.org/stable/model_persistence.html#security-maintainability-limitations\n",
      "  warnings.warn(\n"
     ]
    }
   ],
   "source": [
    "with open(model_file, 'rb') as f_in:\n",
    "    model = pickle.load(f_in)\n",
    "with open(dictVectorizer, 'rb') as f_in:\n",
    "    dv = pickle.load(f_in)"
   ]
  },
  {
   "cell_type": "code",
   "execution_count": 8,
   "id": "22a123d3",
   "metadata": {},
   "outputs": [
    {
     "data": {
      "text/plain": [
       "(DictVectorizer(sparse=False), LogisticRegression())"
      ]
     },
     "execution_count": 8,
     "metadata": {},
     "output_type": "execute_result"
    }
   ],
   "source": [
    "dv,model"
   ]
  },
  {
   "cell_type": "code",
   "execution_count": 9,
   "id": "5b4ffedb",
   "metadata": {},
   "outputs": [],
   "source": [
    "customer_id = 'xyz-123'\n",
    "customer = {\"job\": \"retired\", \n",
    "\"duration\": 445, \n",
    "\"poutcome\": \"success\"}"
   ]
  },
  {
   "cell_type": "code",
   "execution_count": 10,
   "id": "3a5e3596",
   "metadata": {},
   "outputs": [],
   "source": [
    "X = dv.transform([customer])"
   ]
  },
  {
   "cell_type": "code",
   "execution_count": 11,
   "id": "53f19988",
   "metadata": {},
   "outputs": [],
   "source": [
    "y_pred = model.predict_proba(X)[0, 1]"
   ]
  },
  {
   "cell_type": "code",
   "execution_count": 12,
   "id": "1c774716",
   "metadata": {},
   "outputs": [
    {
     "name": "stdout",
     "output_type": "stream",
     "text": [
      "input: {'job': 'retired', 'duration': 445, 'poutcome': 'success'}\n",
      "output: 0.9019309332297606\n"
     ]
    }
   ],
   "source": [
    "print('input:', customer)\n",
    "print('output:', y_pred)"
   ]
  },
  {
   "cell_type": "markdown",
   "id": "c634addd",
   "metadata": {},
   "source": [
    "## Question 4\n",
    "Now let's serve this model as a web service\n",
    "\n",
    "Install Flask and gunicorn (or waitress, if you're on Windows)\n",
    "Write Flask code for serving the model\n",
    "Now score this client using requests:\n",
    "url = \"YOUR_URL\"\n",
    "client = {\"job\": \"unknown\", \"duration\": 270, \"poutcome\": \"failure\"}\n",
    "requests.post(url, json=client).json()\n",
    "What's the probability that this client will get a credit?"
   ]
  },
  {
   "cell_type": "code",
   "execution_count": 13,
   "id": "e4fe8fae",
   "metadata": {},
   "outputs": [],
   "source": [
    "import requests"
   ]
  },
  {
   "cell_type": "code",
   "execution_count": 14,
   "id": "8f8889f4",
   "metadata": {},
   "outputs": [],
   "source": [
    "url = 'http://localhost:9696/predict'"
   ]
  },
  {
   "cell_type": "code",
   "execution_count": 15,
   "id": "b353111d",
   "metadata": {},
   "outputs": [],
   "source": [
    "customer = {\"job\": \"unknown\", \"duration\": 270, \"poutcome\": \"failure\"}"
   ]
  },
  {
   "cell_type": "code",
   "execution_count": 16,
   "id": "2d8b9058",
   "metadata": {},
   "outputs": [],
   "source": [
    "response = requests.post(url, json=customer).json()"
   ]
  },
  {
   "cell_type": "code",
   "execution_count": 17,
   "id": "01371e6a",
   "metadata": {},
   "outputs": [
    {
     "data": {
      "text/plain": [
       "{'credit': False, 'credit_probability': 0.13968947052356817}"
      ]
     },
     "execution_count": 17,
     "metadata": {},
     "output_type": "execute_result"
    }
   ],
   "source": [
    "response"
   ]
  },
  {
   "cell_type": "code",
   "execution_count": 19,
   "id": "90436876",
   "metadata": {},
   "outputs": [],
   "source": [
    "if response['credit']:\n",
    "    print('sending email to', 'asdx-123d')"
   ]
  },
  {
   "cell_type": "markdown",
   "id": "f18e7aa7",
   "metadata": {},
   "source": [
    "## Docker\n",
    "Install Docker. We will use it for the next two questions.\n",
    "\n",
    "For these questions, we prepared a base image: svizor/zoomcamp-model:3.10.12-slim. You'll need to use it (see Question 5 for an example).\n",
    "\n",
    "This image is based on python:3.10.12-slim and has a logistic regression model (a different one) as well a dictionary vectorizer inside.\n",
    "\n",
    "This is how the Dockerfile for this image looks like:\n",
    "\n",
    "FROM python:3.10.12-slim\n",
    "WORKDIR /app\n",
    "COPY [\"model2.bin\", \"dv.bin\", \"./\"]\n",
    "We already built it and then pushed it to svizor/zoomcamp-model:3.10.12-slim"
   ]
  },
  {
   "cell_type": "code",
   "execution_count": null,
   "id": "4d811066",
   "metadata": {},
   "outputs": [],
   "source": [
    "## Question 5\n",
    "Download the base image svizor/zoomcamp-model:3.10.12-slim. You can easily make it by using docker pull command.\n",
    "\n",
    "So what's the size of this base image?"
   ]
  },
  {
   "cell_type": "code",
   "execution_count": null,
   "id": "de0d497e",
   "metadata": {},
   "outputs": [],
   "source": [
    "docker pull svizor/zoomcamp-model:3.10.12-slim"
   ]
  },
  {
   "cell_type": "code",
   "execution_count": null,
   "id": "21aee547",
   "metadata": {},
   "outputs": [],
   "source": [
    "docker inspect -f \"{{ .Size }}\" svizor/zoomcamp-model:3.10.12-slim"
   ]
  },
  {
   "cell_type": "markdown",
   "id": "1c8f4ca4",
   "metadata": {},
   "source": [
    "## Now create your own Dockerfile based on the image we prepared.\n",
    "\n",
    "It should start like that:\n",
    "\n",
    "FROM svizor/zoomcamp-model:3.10.12-slim\n",
    "# add your stuff here\n",
    "Now complete it:\n",
    "\n",
    "Install all the dependencies form the Pipenv file\n",
    "Copy your Flask script\n",
    "Run it with Gunicorn\n",
    "After that, you can build your docker image."
   ]
  },
  {
   "cell_type": "markdown",
   "id": "b0b1d1d7",
   "metadata": {},
   "source": [
    "## Let's run your docker container!\n",
    "\n",
    "After running it, score this client once again:\n",
    "\n",
    "url = \"YOUR_URL\"\n",
    "client = {\"job\": \"retired\", \"duration\": 445, \"poutcome\": \"success\"}\n",
    "requests.post(url, json=client).json()\n",
    "What's the probability that this client will get a credit now?"
   ]
  },
  {
   "cell_type": "code",
   "execution_count": null,
   "id": "be6184d7",
   "metadata": {},
   "outputs": [],
   "source": [
    "docker build -t test5 ."
   ]
  },
  {
   "cell_type": "code",
   "execution_count": null,
   "id": "d6eed5d1",
   "metadata": {},
   "outputs": [],
   "source": [
    "docker run -it --rm test5\n",
    "#install dependencies \n",
    "gunicorn --bind=0.0.0.0:9696 predict:app"
   ]
  },
  {
   "cell_type": "code",
   "execution_count": 20,
   "id": "8fad08b3",
   "metadata": {},
   "outputs": [
    {
     "data": {
      "text/plain": [
       "{'credit': True, 'credit_probability': 0.9019309332297606}"
      ]
     },
     "execution_count": 20,
     "metadata": {},
     "output_type": "execute_result"
    }
   ],
   "source": [
    "url = 'http://localhost:9696/predict'\n",
    "customer = {\"job\": \"retired\", \"duration\": 445, \"poutcome\": \"success\"}\n",
    "response = requests.post(url, json=customer).json()\n",
    "response"
   ]
  },
  {
   "cell_type": "code",
   "execution_count": null,
   "id": "29a904fd",
   "metadata": {},
   "outputs": [],
   "source": []
  }
 ],
 "metadata": {
  "kernelspec": {
   "display_name": "Python 3 (ipykernel)",
   "language": "python",
   "name": "python3"
  },
  "language_info": {
   "codemirror_mode": {
    "name": "ipython",
    "version": 3
   },
   "file_extension": ".py",
   "mimetype": "text/x-python",
   "name": "python",
   "nbconvert_exporter": "python",
   "pygments_lexer": "ipython3",
   "version": "3.9.12"
  }
 },
 "nbformat": 4,
 "nbformat_minor": 5
}
